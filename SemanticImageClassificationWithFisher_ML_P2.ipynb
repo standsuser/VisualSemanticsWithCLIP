{
 "cells": [
  {
   "cell_type": "code",
   "execution_count": 1,
   "metadata": {},
   "outputs": [],
   "source": [
    "import clip"
   ]
  },
  {
   "cell_type": "code",
   "execution_count": 15,
   "metadata": {},
   "outputs": [
    {
     "ename": "ImportError",
     "evalue": "cannot import name 'CLIPModel' from 'clip' (c:\\Python311\\Lib\\site-packages\\clip\\__init__.py)",
     "output_type": "error",
     "traceback": [
      "\u001b[1;31m---------------------------------------------------------------------------\u001b[0m",
      "\u001b[1;31mImportError\u001b[0m                               Traceback (most recent call last)",
      "Cell \u001b[1;32mIn[15], line 10\u001b[0m\n\u001b[0;32m      8\u001b[0m \u001b[38;5;28;01mimport\u001b[39;00m \u001b[38;5;21;01mmatplotlib\u001b[39;00m\u001b[38;5;21;01m.\u001b[39;00m\u001b[38;5;21;01mpyplot\u001b[39;00m \u001b[38;5;28;01mas\u001b[39;00m \u001b[38;5;21;01mplt\u001b[39;00m\n\u001b[0;32m      9\u001b[0m \u001b[38;5;28;01mfrom\u001b[39;00m \u001b[38;5;21;01mPIL\u001b[39;00m \u001b[38;5;28;01mimport\u001b[39;00m Image\n\u001b[1;32m---> 10\u001b[0m \u001b[38;5;28;01mfrom\u001b[39;00m \u001b[38;5;21;01mclip\u001b[39;00m \u001b[38;5;28;01mimport\u001b[39;00m CLIPModel\n\u001b[0;32m     12\u001b[0m \u001b[38;5;66;03m# Load CSV file\u001b[39;00m\n\u001b[0;32m     13\u001b[0m csv_path \u001b[38;5;241m=\u001b[39m \u001b[38;5;124m'\u001b[39m\u001b[38;5;124mcat_dog1.csv\u001b[39m\u001b[38;5;124m'\u001b[39m\n",
      "\u001b[1;31mImportError\u001b[0m: cannot import name 'CLIPModel' from 'clip' (c:\\Python311\\Lib\\site-packages\\clip\\__init__.py)"
     ]
    }
   ],
   "source": [
    "from sklearn.model_selection import train_test_split\n",
    "import torch\n",
    "import numpy as np\n",
    "from sklearn.discriminant_analysis import LinearDiscriminantAnalysis\n",
    "from sklearn.metrics import confusion_matrix\n",
    "from sklearn.metrics import accuracy_score, precision_score, recall_score, f1_score\n",
    "import pandas as pd\n",
    "import matplotlib.pyplot as plt\n",
    "from PIL import Image\n",
    "from clip import CLIPModel\n",
    "\n",
    "# Load CSV file\n",
    "csv_path = 'cat_dog1.csv'\n",
    "df = pd.read_csv(csv_path)\n",
    "\n",
    "# Assuming your CSV has 'image' and 'labels' columns\n",
    "images = df['image'].values\n",
    "labels = df['labels'].values\n",
    "\n",
    "# Split the dataset\n",
    "train_images, test_images, train_labels, test_labels = train_test_split(images, labels, test_size=0.2, random_state=42)\n",
    "\n",
    "# Load the CLIP model using a deep learning framework like PyTorch\n",
    "device = \"cuda\" if torch.cuda.is_available() else \"cpu\"\n",
    "model = CLIPModel.from_pretrained(\"ViT-B/32\", device=device)\n",
    "\n",
    "# Utilize the CLIP model to extract embeddings for each image in the dataset (both train and test dataset)\n",
    "train_embeddings = []\n",
    "test_embeddings = []\n",
    "\n",
    "for image_path, label in zip(train_images, train_labels):\n",
    "    # Load image using PIL\n",
    "    image = model.preprocess(Image.open(image_path)).unsqueeze(0).to(device)\n",
    "    with torch.no_grad():\n",
    "        embedding = model.encode_image(image)\n",
    "    train_embeddings.append(embedding.cpu().numpy())\n",
    "\n",
    "for image_path, label in zip(test_images, test_labels):\n",
    "    # Load image using PIL\n",
    "    image = model.preprocess(Image.open(image_path)).unsqueeze(0).to(device)\n",
    "    with torch.no_grad():\n",
    "        embedding = model.encode_image(image)\n",
    "    test_embeddings.append(embedding.cpu().numpy())\n",
    "\n",
    "# Organize the extracted CLIP embeddings into a feature matrix\n",
    "train_features = np.concatenate(train_embeddings)\n",
    "test_features = np.concatenate(test_embeddings)\n",
    "\n",
    "# Fisher Algorithm\n",
    "C_values = [0.1, 1.0, 10.0]\n",
    "best_accuracy = 0.0\n",
    "best_C = None\n"
   ]
  },
  {
   "cell_type": "code",
   "execution_count": null,
   "metadata": {},
   "outputs": [],
   "source": [
    "for C in C_values:\n",
    "    fisher_model = LinearDiscriminantAnalysis(solver='eigen', shrinkage=C)\n",
    "    fisher_model.fit(train_features, train_labels)\n",
    "\n",
    "    # Test the model using the testing dataset and visualize the classification results using a confusion matrix\n",
    "    predictions = fisher_model.predict(test_features)\n",
    "    confusion_mat = confusion_matrix(test_labels, predictions)\n",
    "\n",
    "    plt.imshow(confusion_mat, cmap='Blues')\n",
    "    plt.colorbar()\n",
    "    plt.xlabel('Predicted Label')\n",
    "    plt.ylabel('True Label')\n",
    "    plt.title(f'Confusion Matrix for C={C}')\n",
    "    plt.show()\n",
    "\n",
    "    # Model Evaluation\n",
    "    accuracy = accuracy_score(test_labels, predictions)\n",
    "    precision = precision_score(test_labels, predictions)\n",
    "    recall = recall_score(test_labels, predictions)\n",
    "    f1 = f1_score(test_labels, predictions)\n",
    "\n",
    "    print(f\"\\nMetrics for C={C}:\")\n",
    "    print(\"Accuracy:\", accuracy)\n",
    "    print(\"Precision:\", precision)\n",
    "    print(\"Recall:\", recall)\n",
    "    print(\"F1-score:\", f1)\n",
    "\n",
    "    # Check if the current model is the best based on accuracy\n",
    "    if accuracy > best_accuracy:\n",
    "        best_accuracy = accuracy\n",
    "        best_C = C\n",
    "\n",
    "print(f\"\\nBest C value: {best_C} with Accuracy: {best_accuracy}\")"
   ]
  }
 ],
 "metadata": {
  "kernelspec": {
   "display_name": "Python 3",
   "language": "python",
   "name": "python3"
  },
  "language_info": {
   "codemirror_mode": {
    "name": "ipython",
    "version": 3
   },
   "file_extension": ".py",
   "mimetype": "text/x-python",
   "name": "python",
   "nbconvert_exporter": "python",
   "pygments_lexer": "ipython3",
   "version": "3.11.3"
  }
 },
 "nbformat": 4,
 "nbformat_minor": 2
}
